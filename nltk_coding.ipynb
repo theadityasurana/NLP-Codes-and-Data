{
  "nbformat": 4,
  "nbformat_minor": 0,
  "metadata": {
    "colab": {
      "provenance": []
    },
    "kernelspec": {
      "name": "python3",
      "display_name": "Python 3"
    },
    "language_info": {
      "name": "python"
    }
  },
  "cells": [
    {
      "cell_type": "code",
      "execution_count": null,
      "metadata": {
        "colab": {
          "base_uri": "https://localhost:8080/"
        },
        "id": "wzSQhQLR9lFJ",
        "outputId": "bce8d3ec-6d54-48e2-9662-0370331fbb83"
      },
      "outputs": [
        {
          "output_type": "stream",
          "name": "stdout",
          "text": [
            "Requirement already satisfied: nltk in /usr/local/lib/python3.10/dist-packages (3.8.1)\n",
            "Requirement already satisfied: click in /usr/local/lib/python3.10/dist-packages (from nltk) (8.1.7)\n",
            "Requirement already satisfied: joblib in /usr/local/lib/python3.10/dist-packages (from nltk) (1.3.2)\n",
            "Requirement already satisfied: regex>=2021.8.3 in /usr/local/lib/python3.10/dist-packages (from nltk) (2023.12.25)\n",
            "Requirement already satisfied: tqdm in /usr/local/lib/python3.10/dist-packages (from nltk) (4.66.2)\n"
          ]
        }
      ],
      "source": [
        "pip install nltk"
      ]
    },
    {
      "cell_type": "code",
      "source": [
        "paragraph=\"\"\"\n",
        "Narendra Damodardas Modi (Gujarati: [ˈnəɾendɾə dɑmodəɾˈdɑs ˈmodiː] ⓘ; born 17 September 1950)[b] is an Indian politician who has served as the 14th prime minister of India since May 2014. Modi was the chief minister of Gujarat from 2001 to 2014 and is the Member of Parliament (MP) for Varanasi. He is a member of the Bharatiya Janata Party (BJP) and of the Rashtriya Swayamsevak Sangh (RSS), a right wing Hindu nationalist paramilitary volunteer organisation. He is the longest-serving prime minister from outside the Indian National Congress.\n",
        "\n",
        "Modi was born and raised in Vadnagar in northeastern Gujarat, where he completed his secondary education. He was introduced to the RSS at the age of eight. His account of helping his father sell tea at the Vadnagar railway station has not been reliably corroborated. At age 18, he was married to Jashodaben Modi, whom he abandoned soon after, only publicly acknowledging her four decades later when legally required to do so. Modi became a full-time worker for the RSS in Gujarat in 1971. The RSS assigned him to the BJP in 1985 and he held several positions within the party hierarchy until 2001, rising to the rank of general secretary.[c]\n",
        "\n",
        "In 2001, Modi was appointed Chief Minister of Gujarat and elected to the legislative assembly soon after. His administration is considered complicit in the 2002 Gujarat riots,[d] and has been criticised for its management of the crisis. A little over 1,000 people were killed, according to official records, three-quarters of whom were Muslim; independent sources estimated 2,000 deaths, mostly Muslim.[11] A Special Investigation Team appointed by the Supreme Court of India in 2012 found no evidence to initiate prosecution proceedings against him.[e] While his policies as chief minister, which were credited for encouraging economic growth, were praised, Modi's administration was criticised for failing to significantly improve health, poverty and education indices in the state.[f] In the 2014 Indian general election, Modi led the BJP to a parliamentary majority, the first for a party since 1984. His administration increased direct foreign investment, and it reduced spending on healthcare, education, and social-welfare programmes. Modi began a high-profile sanitation campaign, controversially initiated the 2016 demonetisation of high-denomination banknotes and introduced the Goods and Services Tax, and weakened or abolished environmental and labour laws.\n",
        "\n",
        "Modi's administration launched the 2019 Balakot airstrike against an alleged terrorist training camp in Pakistan. The airstrike failed,[14][15] and the deaths of six Indian personnel to friendly fire was later revealed: but the action had nationalist appeal.[16] Modi's party won the 2019 general election which followed.[17] In its second term, his administration revoked the special status of Jammu and Kashmir, an Indian-administered portion of the disputed Kashmir region,[18][19] and introduced the Citizenship Amendment Act, prompting widespread protests, and spurring the 2020 Delhi riots in which Muslims were brutalised and killed by Hindu mobs,[20][21][22] sometimes with the complicity of police forces controlled by the Modi administration.[23][24] Three controversial farm laws led to sit-ins by farmers across the country, eventually causing their formal repeal. Modi oversaw India's response to the COVID-19 pandemic, during which 4.7 million out of 1.4 billion Indians died, according to the World Health Organization's estimates.[25][26]\n",
        "\"\"\""
      ],
      "metadata": {
        "id": "tqrvFkxg9pkL"
      },
      "execution_count": null,
      "outputs": []
    },
    {
      "cell_type": "code",
      "source": [
        "paragraph"
      ],
      "metadata": {
        "colab": {
          "base_uri": "https://localhost:8080/",
          "height": 140
        },
        "id": "RG3BolcQ9_WK",
        "outputId": "bd7ba2c4-5fa4-40cc-9c88-8664335991e5"
      },
      "execution_count": null,
      "outputs": [
        {
          "output_type": "execute_result",
          "data": {
            "text/plain": [
              "\"\\nNarendra Damodardas Modi (Gujarati: [ˈnəɾendɾə dɑmodəɾˈdɑs ˈmodiː] ⓘ; born 17 September 1950)[b] is an Indian politician who has served as the 14th prime minister of India since May 2014. Modi was the chief minister of Gujarat from 2001 to 2014 and is the Member of Parliament (MP) for Varanasi. He is a member of the Bharatiya Janata Party (BJP) and of the Rashtriya Swayamsevak Sangh (RSS), a right wing Hindu nationalist paramilitary volunteer organisation. He is the longest-serving prime minister from outside the Indian National Congress.\\n\\nModi was born and raised in Vadnagar in northeastern Gujarat, where he completed his secondary education. He was introduced to the RSS at the age of eight. His account of helping his father sell tea at the Vadnagar railway station has not been reliably corroborated. At age 18, he was married to Jashodaben Modi, whom he abandoned soon after, only publicly acknowledging her four decades later when legally required to do so. Modi became a full-time worker for the RSS in Gujarat in 1971. The RSS assigned him to the BJP in 1985 and he held several positions within the party hierarchy until 2001, rising to the rank of general secretary.[c]\\n\\nIn 2001, Modi was appointed Chief Minister of Gujarat and elected to the legislative assembly soon after. His administration is considered complicit in the 2002 Gujarat riots,[d] and has been criticised for its management of the crisis. A little over 1,000 people were killed, according to official records, three-quarters of whom were Muslim; independent sources estimated 2,000 deaths, mostly Muslim.[11] A Special Investigation Team appointed by the Supreme Court of India in 2012 found no evidence to initiate prosecution proceedings against him.[e] While his policies as chief minister, which were credited for encouraging economic growth, were praised, Modi's administration was criticised for failing to significantly improve health, poverty and education indices in the state.[f] In the 2014 Indian general election, Modi led the BJP to a parliamentary majority, the first for a party since 1984. His administration increased direct foreign investment, and it reduced spending on healthcare, education, and social-welfare programmes. Modi began a high-profile sanitation campaign, controversially initiated the 2016 demonetisation of high-denomination banknotes and introduced the Goods and Services Tax, and weakened or abolished environmental and labour laws.\\n\\nModi's administration launched the 2019 Balakot airstrike against an alleged terrorist training camp in Pakistan. The airstrike failed,[14][15] and the deaths of six Indian personnel to friendly fire was later revealed: but the action had nationalist appeal.[16] Modi's party won the 2019 general election which followed.[17] In its second term, his administration revoked the special status of Jammu and Kashmir, an Indian-administered portion of the disputed Kashmir region,[18][19] and introduced the Citizenship Amendment Act, prompting widespread protests, and spurring the 2020 Delhi riots in which Muslims were brutalised and killed by Hindu mobs,[20][21][22] sometimes with the complicity of police forces controlled by the Modi administration.[23][24] Three controversial farm laws led to sit-ins by farmers across the country, eventually causing their formal repeal. Modi oversaw India's response to the COVID-19 pandemic, during which 4.7 million out of 1.4 billion Indians died, according to the World Health Organization's estimates.[25][26]\\n\""
            ],
            "application/vnd.google.colaboratory.intrinsic+json": {
              "type": "string"
            }
          },
          "metadata": {},
          "execution_count": 3
        }
      ]
    },
    {
      "cell_type": "code",
      "source": [
        "import nltk\n",
        "from nltk.stem import PorterStemmer\n",
        "from nltk.corpus import stopwords"
      ],
      "metadata": {
        "id": "WNmoWeoS-Cpr"
      },
      "execution_count": null,
      "outputs": []
    },
    {
      "cell_type": "code",
      "source": [
        "#tokenization\n",
        "nltk.download('punkt')\n",
        "nltk.sent_tokenize(paragraph)"
      ],
      "metadata": {
        "colab": {
          "base_uri": "https://localhost:8080/"
        },
        "id": "RnK4VpJB-QEM",
        "outputId": "26368267-aa44-4616-9e43-aa5a941df14c"
      },
      "execution_count": null,
      "outputs": [
        {
          "output_type": "stream",
          "name": "stderr",
          "text": [
            "[nltk_data] Downloading package punkt to /root/nltk_data...\n",
            "[nltk_data]   Unzipping tokenizers/punkt.zip.\n"
          ]
        },
        {
          "output_type": "execute_result",
          "data": {
            "text/plain": [
              "['\\nNarendra Damodardas Modi (Gujarati: [ˈnəɾendɾə dɑmodəɾˈdɑs ˈmodiː] ⓘ; born 17 September 1950)[b] is an Indian politician who has served as the 14th prime minister of India since May 2014.',\n",
              " 'Modi was the chief minister of Gujarat from 2001 to 2014 and is the Member of Parliament (MP) for Varanasi.',\n",
              " 'He is a member of the Bharatiya Janata Party (BJP) and of the Rashtriya Swayamsevak Sangh (RSS), a right wing Hindu nationalist paramilitary volunteer organisation.',\n",
              " 'He is the longest-serving prime minister from outside the Indian National Congress.',\n",
              " 'Modi was born and raised in Vadnagar in northeastern Gujarat, where he completed his secondary education.',\n",
              " 'He was introduced to the RSS at the age of eight.',\n",
              " 'His account of helping his father sell tea at the Vadnagar railway station has not been reliably corroborated.',\n",
              " 'At age 18, he was married to Jashodaben Modi, whom he abandoned soon after, only publicly acknowledging her four decades later when legally required to do so.',\n",
              " 'Modi became a full-time worker for the RSS in Gujarat in 1971.',\n",
              " 'The RSS assigned him to the BJP in 1985 and he held several positions within the party hierarchy until 2001, rising to the rank of general secretary.',\n",
              " '[c]\\n\\nIn 2001, Modi was appointed Chief Minister of Gujarat and elected to the legislative assembly soon after.',\n",
              " 'His administration is considered complicit in the 2002 Gujarat riots,[d] and has been criticised for its management of the crisis.',\n",
              " 'A little over 1,000 people were killed, according to official records, three-quarters of whom were Muslim; independent sources estimated 2,000 deaths, mostly Muslim.',\n",
              " '[11] A Special Investigation Team appointed by the Supreme Court of India in 2012 found no evidence to initiate prosecution proceedings against him.',\n",
              " \"[e] While his policies as chief minister, which were credited for encouraging economic growth, were praised, Modi's administration was criticised for failing to significantly improve health, poverty and education indices in the state.\",\n",
              " '[f] In the 2014 Indian general election, Modi led the BJP to a parliamentary majority, the first for a party since 1984.',\n",
              " 'His administration increased direct foreign investment, and it reduced spending on healthcare, education, and social-welfare programmes.',\n",
              " 'Modi began a high-profile sanitation campaign, controversially initiated the 2016 demonetisation of high-denomination banknotes and introduced the Goods and Services Tax, and weakened or abolished environmental and labour laws.',\n",
              " \"Modi's administration launched the 2019 Balakot airstrike against an alleged terrorist training camp in Pakistan.\",\n",
              " 'The airstrike failed,[14][15] and the deaths of six Indian personnel to friendly fire was later revealed: but the action had nationalist appeal.',\n",
              " \"[16] Modi's party won the 2019 general election which followed.\",\n",
              " '[17] In its second term, his administration revoked the special status of Jammu and Kashmir, an Indian-administered portion of the disputed Kashmir region,[18][19] and introduced the Citizenship Amendment Act, prompting widespread protests, and spurring the 2020 Delhi riots in which Muslims were brutalised and killed by Hindu mobs,[20][21][22] sometimes with the complicity of police forces controlled by the Modi administration.',\n",
              " '[23][24] Three controversial farm laws led to sit-ins by farmers across the country, eventually causing their formal repeal.',\n",
              " \"Modi oversaw India's response to the COVID-19 pandemic, during which 4.7 million out of 1.4 billion Indians died, according to the World Health Organization's estimates.\",\n",
              " '[25][26]']"
            ]
          },
          "metadata": {},
          "execution_count": 5
        }
      ]
    },
    {
      "cell_type": "code",
      "source": [
        "sentences = nltk.sent_tokenize(paragraph)"
      ],
      "metadata": {
        "id": "6ftLBnJt-jaO"
      },
      "execution_count": null,
      "outputs": []
    },
    {
      "cell_type": "code",
      "source": [
        "print(sentences)"
      ],
      "metadata": {
        "colab": {
          "base_uri": "https://localhost:8080/"
        },
        "id": "77-_1cNu-eJi",
        "outputId": "cd0031d4-ef47-4225-83b1-819a1ed05a84"
      },
      "execution_count": null,
      "outputs": [
        {
          "output_type": "stream",
          "name": "stdout",
          "text": [
            "['\\nNarendra Damodardas Modi (Gujarati: [ˈnəɾendɾə dɑmodəɾˈdɑs ˈmodiː] ⓘ; born 17 September 1950)[b] is an Indian politician who has served as the 14th prime minister of India since May 2014.', 'Modi was the chief minister of Gujarat from 2001 to 2014 and is the Member of Parliament (MP) for Varanasi.', 'He is a member of the Bharatiya Janata Party (BJP) and of the Rashtriya Swayamsevak Sangh (RSS), a right wing Hindu nationalist paramilitary volunteer organisation.', 'He is the longest-serving prime minister from outside the Indian National Congress.', 'Modi was born and raised in Vadnagar in northeastern Gujarat, where he completed his secondary education.', 'He was introduced to the RSS at the age of eight.', 'His account of helping his father sell tea at the Vadnagar railway station has not been reliably corroborated.', 'At age 18, he was married to Jashodaben Modi, whom he abandoned soon after, only publicly acknowledging her four decades later when legally required to do so.', 'Modi became a full-time worker for the RSS in Gujarat in 1971.', 'The RSS assigned him to the BJP in 1985 and he held several positions within the party hierarchy until 2001, rising to the rank of general secretary.', '[c]\\n\\nIn 2001, Modi was appointed Chief Minister of Gujarat and elected to the legislative assembly soon after.', 'His administration is considered complicit in the 2002 Gujarat riots,[d] and has been criticised for its management of the crisis.', 'A little over 1,000 people were killed, according to official records, three-quarters of whom were Muslim; independent sources estimated 2,000 deaths, mostly Muslim.', '[11] A Special Investigation Team appointed by the Supreme Court of India in 2012 found no evidence to initiate prosecution proceedings against him.', \"[e] While his policies as chief minister, which were credited for encouraging economic growth, were praised, Modi's administration was criticised for failing to significantly improve health, poverty and education indices in the state.\", '[f] In the 2014 Indian general election, Modi led the BJP to a parliamentary majority, the first for a party since 1984.', 'His administration increased direct foreign investment, and it reduced spending on healthcare, education, and social-welfare programmes.', 'Modi began a high-profile sanitation campaign, controversially initiated the 2016 demonetisation of high-denomination banknotes and introduced the Goods and Services Tax, and weakened or abolished environmental and labour laws.', \"Modi's administration launched the 2019 Balakot airstrike against an alleged terrorist training camp in Pakistan.\", 'The airstrike failed,[14][15] and the deaths of six Indian personnel to friendly fire was later revealed: but the action had nationalist appeal.', \"[16] Modi's party won the 2019 general election which followed.\", '[17] In its second term, his administration revoked the special status of Jammu and Kashmir, an Indian-administered portion of the disputed Kashmir region,[18][19] and introduced the Citizenship Amendment Act, prompting widespread protests, and spurring the 2020 Delhi riots in which Muslims were brutalised and killed by Hindu mobs,[20][21][22] sometimes with the complicity of police forces controlled by the Modi administration.', '[23][24] Three controversial farm laws led to sit-ins by farmers across the country, eventually causing their formal repeal.', \"Modi oversaw India's response to the COVID-19 pandemic, during which 4.7 million out of 1.4 billion Indians died, according to the World Health Organization's estimates.\", '[25][26]']\n"
          ]
        }
      ]
    },
    {
      "cell_type": "code",
      "source": [
        "type(sentences)"
      ],
      "metadata": {
        "colab": {
          "base_uri": "https://localhost:8080/"
        },
        "id": "80UlI-9X-q5f",
        "outputId": "180a2df4-f6eb-4f17-c581-7ef49cdcad2b"
      },
      "execution_count": null,
      "outputs": [
        {
          "output_type": "execute_result",
          "data": {
            "text/plain": [
              "list"
            ]
          },
          "metadata": {},
          "execution_count": 9
        }
      ]
    },
    {
      "cell_type": "code",
      "source": [
        "stemmer=PorterStemmer()"
      ],
      "metadata": {
        "id": "RmuIIv1a-s8c"
      },
      "execution_count": null,
      "outputs": []
    },
    {
      "cell_type": "code",
      "source": [
        "stemmer.stem('going')"
      ],
      "metadata": {
        "colab": {
          "base_uri": "https://localhost:8080/",
          "height": 35
        },
        "id": "e9n2lDLq-zuS",
        "outputId": "01c215dd-5c29-4b86-c8db-fc238dd98413"
      },
      "execution_count": null,
      "outputs": [
        {
          "output_type": "execute_result",
          "data": {
            "text/plain": [
              "'go'"
            ],
            "application/vnd.google.colaboratory.intrinsic+json": {
              "type": "string"
            }
          },
          "metadata": {},
          "execution_count": 12
        }
      ]
    },
    {
      "cell_type": "code",
      "source": [
        "from nltk.stem import WordNetLemmatizer\n",
        "lemmatizer=WordNetLemmatizer()"
      ],
      "metadata": {
        "id": "Y9-mto6X_Vac"
      },
      "execution_count": null,
      "outputs": []
    },
    {
      "cell_type": "code",
      "source": [
        "nltk.download('wordnet')"
      ],
      "metadata": {
        "colab": {
          "base_uri": "https://localhost:8080/"
        },
        "id": "9No1PIjT_4Xr",
        "outputId": "556a41f3-52f5-4dde-c0d0-8e8efa3fed11"
      },
      "execution_count": null,
      "outputs": [
        {
          "output_type": "stream",
          "name": "stderr",
          "text": [
            "[nltk_data] Downloading package wordnet to /root/nltk_data...\n"
          ]
        },
        {
          "output_type": "execute_result",
          "data": {
            "text/plain": [
              "True"
            ]
          },
          "metadata": {},
          "execution_count": 18
        }
      ]
    },
    {
      "cell_type": "code",
      "source": [
        "lemmatizer.lemmatize('goes')"
      ],
      "metadata": {
        "colab": {
          "base_uri": "https://localhost:8080/",
          "height": 35
        },
        "id": "FShMpqM3_jI6",
        "outputId": "d4866301-0b2d-48a0-92b5-efe72cc50006"
      },
      "execution_count": null,
      "outputs": [
        {
          "output_type": "execute_result",
          "data": {
            "text/plain": [
              "'go'"
            ],
            "application/vnd.google.colaboratory.intrinsic+json": {
              "type": "string"
            }
          },
          "metadata": {},
          "execution_count": 19
        }
      ]
    },
    {
      "cell_type": "code",
      "source": [
        "len(sentences)"
      ],
      "metadata": {
        "colab": {
          "base_uri": "https://localhost:8080/"
        },
        "id": "O_8nQ1eD_8pe",
        "outputId": "615491b3-0d29-4648-d400-d3c2389f899c"
      },
      "execution_count": null,
      "outputs": [
        {
          "output_type": "execute_result",
          "data": {
            "text/plain": [
              "25"
            ]
          },
          "metadata": {},
          "execution_count": 20
        }
      ]
    },
    {
      "cell_type": "code",
      "source": [
        "import re"
      ],
      "metadata": {
        "id": "WP6qRepEAFft"
      },
      "execution_count": null,
      "outputs": []
    },
    {
      "cell_type": "code",
      "source": [
        "corpus=[]\n",
        "for i in range(len(sentences)):\n",
        "  review=re.sub('[^a-zA-Z]','',sentences[i])\n",
        "  review=review.lower()\n",
        "  corpus.append(review)"
      ],
      "metadata": {
        "id": "S1AjYWvJAIZs"
      },
      "execution_count": null,
      "outputs": []
    },
    {
      "cell_type": "code",
      "source": [
        "corpus"
      ],
      "metadata": {
        "colab": {
          "base_uri": "https://localhost:8080/"
        },
        "id": "-Y4q7vW_Anut",
        "outputId": "8676c7bc-f190-4ab2-dd88-fb807f4810e2"
      },
      "execution_count": null,
      "outputs": [
        {
          "output_type": "execute_result",
          "data": {
            "text/plain": [
              "['narendradamodardasmodigujaratinenddmoddsmodibornseptemberbisanindianpoliticianwhohasservedasthethprimeministerofindiasincemay',\n",
              " 'modiwasthechiefministerofgujaratfromtoandisthememberofparliamentmpforvaranasi',\n",
              " 'heisamemberofthebharatiyajanatapartybjpandoftherashtriyaswayamsevaksanghrssarightwinghindunationalistparamilitaryvolunteerorganisation',\n",
              " 'heisthelongestservingprimeministerfromoutsidetheindiannationalcongress',\n",
              " 'modiwasbornandraisedinvadnagarinnortheasterngujaratwherehecompletedhissecondaryeducation',\n",
              " 'hewasintroducedtotherssattheageofeight',\n",
              " 'hisaccountofhelpinghisfathersellteaatthevadnagarrailwaystationhasnotbeenreliablycorroborated',\n",
              " 'atagehewasmarriedtojashodabenmodiwhomheabandonedsoonafteronlypubliclyacknowledgingherfourdecadeslaterwhenlegallyrequiredtodoso',\n",
              " 'modibecameafulltimeworkerfortherssingujaratin',\n",
              " 'therssassignedhimtothebjpinandheheldseveralpositionswithinthepartyhierarchyuntilrisingtotherankofgeneralsecretary',\n",
              " 'cinmodiwasappointedchiefministerofgujaratandelectedtothelegislativeassemblysoonafter',\n",
              " 'hisadministrationisconsideredcomplicitinthegujaratriotsdandhasbeencriticisedforitsmanagementofthecrisis',\n",
              " 'alittleoverpeoplewerekilledaccordingtoofficialrecordsthreequartersofwhomweremuslimindependentsourcesestimateddeathsmostlymuslim',\n",
              " 'aspecialinvestigationteamappointedbythesupremecourtofindiainfoundnoevidencetoinitiateprosecutionproceedingsagainsthim',\n",
              " 'ewhilehispoliciesaschiefministerwhichwerecreditedforencouragingeconomicgrowthwerepraisedmodisadministrationwascriticisedforfailingtosignificantlyimprovehealthpovertyandeducationindicesinthestate',\n",
              " 'fintheindiangeneralelectionmodiledthebjptoaparliamentarymajoritythefirstforapartysince',\n",
              " 'hisadministrationincreaseddirectforeigninvestmentanditreducedspendingonhealthcareeducationandsocialwelfareprogrammes',\n",
              " 'modibeganahighprofilesanitationcampaigncontroversiallyinitiatedthedemonetisationofhighdenominationbanknotesandintroducedthegoodsandservicestaxandweakenedorabolishedenvironmentalandlabourlaws',\n",
              " 'modisadministrationlaunchedthebalakotairstrikeagainstanallegedterroristtrainingcampinpakistan',\n",
              " 'theairstrikefailedandthedeathsofsixindianpersonneltofriendlyfirewaslaterrevealedbuttheactionhadnationalistappeal',\n",
              " 'modispartywonthegeneralelectionwhichfollowed',\n",
              " 'initssecondtermhisadministrationrevokedthespecialstatusofjammuandkashmiranindianadministeredportionofthedisputedkashmirregionandintroducedthecitizenshipamendmentactpromptingwidespreadprotestsandspurringthedelhiriotsinwhichmuslimswerebrutalisedandkilledbyhindumobssometimeswiththecomplicityofpoliceforcescontrolledbythemodiadministration',\n",
              " 'threecontroversialfarmlawsledtositinsbyfarmersacrossthecountryeventuallycausingtheirformalrepeal',\n",
              " 'modioversawindiasresponsetothecovidpandemicduringwhichmillionoutofbillionindiansdiedaccordingtotheworldhealthorganizationsestimates',\n",
              " '']"
            ]
          },
          "metadata": {},
          "execution_count": 23
        }
      ]
    },
    {
      "cell_type": "code",
      "source": [
        "nltk.download('stopwords')"
      ],
      "metadata": {
        "colab": {
          "base_uri": "https://localhost:8080/"
        },
        "id": "N4Sv4z_9FVib",
        "outputId": "9ea1c7c2-74fd-439a-bd22-5ec764cfdcc7"
      },
      "execution_count": null,
      "outputs": [
        {
          "output_type": "stream",
          "name": "stderr",
          "text": [
            "[nltk_data] Downloading package stopwords to /root/nltk_data...\n",
            "[nltk_data]   Unzipping corpora/stopwords.zip.\n"
          ]
        },
        {
          "output_type": "execute_result",
          "data": {
            "text/plain": [
              "True"
            ]
          },
          "metadata": {},
          "execution_count": 29
        }
      ]
    },
    {
      "cell_type": "code",
      "source": [
        "#stemming\n",
        "for i in corpus:\n",
        "  words=nltk.word_tokenize(i)\n",
        "  for word in words:\n",
        "    if word not in set(stopwords.words('english')):\n",
        "      print(stemmer.stem(word))\n"
      ],
      "metadata": {
        "colab": {
          "base_uri": "https://localhost:8080/"
        },
        "id": "8Z8EH13qA358",
        "outputId": "60656a5e-ef46-4e77-c146-2b973afb0c43"
      },
      "execution_count": null,
      "outputs": [
        {
          "output_type": "stream",
          "name": "stdout",
          "text": [
            "narendradamodardasmodigujaratinenddmoddsmodibornseptemberbisanindianpoliticianwhohasservedasthethprimeministerofindiasincemay\n",
            "modiwasthechiefministerofgujaratfromtoandisthememberofparliamentmpforvaranasi\n",
            "heisamemberofthebharatiyajanatapartybjpandoftherashtriyaswayamsevaksanghrssarightwinghindunationalistparamilitaryvolunteerorganis\n",
            "heisthelongestservingprimeministerfromoutsidetheindiannationalcongress\n",
            "modiwasbornandraisedinvadnagarinnortheasterngujaratwherehecompletedhissecondaryeduc\n",
            "hewasintroducedtotherssattheageofeight\n",
            "hisaccountofhelpinghisfathersellteaatthevadnagarrailwaystationhasnotbeenreliablycorrobor\n",
            "atagehewasmarriedtojashodabenmodiwhomheabandonedsoonafteronlypubliclyacknowledgingherfourdecadeslaterwhenlegallyrequiredtodoso\n",
            "modibecameafulltimeworkerfortherssingujaratin\n",
            "therssassignedhimtothebjpinandheheldseveralpositionswithinthepartyhierarchyuntilrisingtotherankofgeneralsecretari\n",
            "cinmodiwasappointedchiefministerofgujaratandelectedtothelegislativeassemblysoonaft\n",
            "hisadministrationisconsideredcomplicitinthegujaratriotsdandhasbeencriticisedforitsmanagementofthecrisi\n",
            "alittleoverpeoplewerekilledaccordingtoofficialrecordsthreequartersofwhomweremuslimindependentsourcesestimateddeathsmostlymuslim\n",
            "aspecialinvestigationteamappointedbythesupremecourtofindiainfoundnoevidencetoinitiateprosecutionproceedingsagainsthim\n",
            "ewhilehispoliciesaschiefministerwhichwerecreditedforencouragingeconomicgrowthwerepraisedmodisadministrationwascriticisedforfailingtosignificantlyimprovehealthpovertyandeducationindicesinthest\n",
            "fintheindiangeneralelectionmodiledthebjptoaparliamentarymajoritythefirstforapartysinc\n",
            "hisadministrationincreaseddirectforeigninvestmentanditreducedspendingonhealthcareeducationandsocialwelfareprogramm\n",
            "modibeganahighprofilesanitationcampaigncontroversiallyinitiatedthedemonetisationofhighdenominationbanknotesandintroducedthegoodsandservicestaxandweakenedorabolishedenvironmentalandlabourlaw\n",
            "modisadministrationlaunchedthebalakotairstrikeagainstanallegedterroristtrainingcampinpakistan\n",
            "theairstrikefailedandthedeathsofsixindianpersonneltofriendlyfirewaslaterrevealedbuttheactionhadnationalistapp\n",
            "modispartywonthegeneralelectionwhichfollow\n",
            "initssecondtermhisadministrationrevokedthespecialstatusofjammuandkashmiranindianadministeredportionofthedisputedkashmirregionandintroducedthecitizenshipamendmentactpromptingwidespreadprotestsandspurringthedelhiriotsinwhichmuslimswerebrutalisedandkilledbyhindumobssometimeswiththecomplicityofpoliceforcescontrolledbythemodiadministr\n",
            "threecontroversialfarmlawsledtositinsbyfarmersacrossthecountryeventuallycausingtheirformalrep\n",
            "modioversawindiasresponsetothecovidpandemicduringwhichmillionoutofbillionindiansdiedaccordingtotheworldhealthorganizationsestim\n"
          ]
        }
      ]
    },
    {
      "cell_type": "code",
      "source": [
        "stopwords.words('english')"
      ],
      "metadata": {
        "colab": {
          "base_uri": "https://localhost:8080/"
        },
        "id": "L1GsHLwfFaDR",
        "outputId": "b07f8ee4-2821-4117-c976-05c1584fa5d4"
      },
      "execution_count": null,
      "outputs": [
        {
          "output_type": "execute_result",
          "data": {
            "text/plain": [
              "['i',\n",
              " 'me',\n",
              " 'my',\n",
              " 'myself',\n",
              " 'we',\n",
              " 'our',\n",
              " 'ours',\n",
              " 'ourselves',\n",
              " 'you',\n",
              " \"you're\",\n",
              " \"you've\",\n",
              " \"you'll\",\n",
              " \"you'd\",\n",
              " 'your',\n",
              " 'yours',\n",
              " 'yourself',\n",
              " 'yourselves',\n",
              " 'he',\n",
              " 'him',\n",
              " 'his',\n",
              " 'himself',\n",
              " 'she',\n",
              " \"she's\",\n",
              " 'her',\n",
              " 'hers',\n",
              " 'herself',\n",
              " 'it',\n",
              " \"it's\",\n",
              " 'its',\n",
              " 'itself',\n",
              " 'they',\n",
              " 'them',\n",
              " 'their',\n",
              " 'theirs',\n",
              " 'themselves',\n",
              " 'what',\n",
              " 'which',\n",
              " 'who',\n",
              " 'whom',\n",
              " 'this',\n",
              " 'that',\n",
              " \"that'll\",\n",
              " 'these',\n",
              " 'those',\n",
              " 'am',\n",
              " 'is',\n",
              " 'are',\n",
              " 'was',\n",
              " 'were',\n",
              " 'be',\n",
              " 'been',\n",
              " 'being',\n",
              " 'have',\n",
              " 'has',\n",
              " 'had',\n",
              " 'having',\n",
              " 'do',\n",
              " 'does',\n",
              " 'did',\n",
              " 'doing',\n",
              " 'a',\n",
              " 'an',\n",
              " 'the',\n",
              " 'and',\n",
              " 'but',\n",
              " 'if',\n",
              " 'or',\n",
              " 'because',\n",
              " 'as',\n",
              " 'until',\n",
              " 'while',\n",
              " 'of',\n",
              " 'at',\n",
              " 'by',\n",
              " 'for',\n",
              " 'with',\n",
              " 'about',\n",
              " 'against',\n",
              " 'between',\n",
              " 'into',\n",
              " 'through',\n",
              " 'during',\n",
              " 'before',\n",
              " 'after',\n",
              " 'above',\n",
              " 'below',\n",
              " 'to',\n",
              " 'from',\n",
              " 'up',\n",
              " 'down',\n",
              " 'in',\n",
              " 'out',\n",
              " 'on',\n",
              " 'off',\n",
              " 'over',\n",
              " 'under',\n",
              " 'again',\n",
              " 'further',\n",
              " 'then',\n",
              " 'once',\n",
              " 'here',\n",
              " 'there',\n",
              " 'when',\n",
              " 'where',\n",
              " 'why',\n",
              " 'how',\n",
              " 'all',\n",
              " 'any',\n",
              " 'both',\n",
              " 'each',\n",
              " 'few',\n",
              " 'more',\n",
              " 'most',\n",
              " 'other',\n",
              " 'some',\n",
              " 'such',\n",
              " 'no',\n",
              " 'nor',\n",
              " 'not',\n",
              " 'only',\n",
              " 'own',\n",
              " 'same',\n",
              " 'so',\n",
              " 'than',\n",
              " 'too',\n",
              " 'very',\n",
              " 's',\n",
              " 't',\n",
              " 'can',\n",
              " 'will',\n",
              " 'just',\n",
              " 'don',\n",
              " \"don't\",\n",
              " 'should',\n",
              " \"should've\",\n",
              " 'now',\n",
              " 'd',\n",
              " 'll',\n",
              " 'm',\n",
              " 'o',\n",
              " 're',\n",
              " 've',\n",
              " 'y',\n",
              " 'ain',\n",
              " 'aren',\n",
              " \"aren't\",\n",
              " 'couldn',\n",
              " \"couldn't\",\n",
              " 'didn',\n",
              " \"didn't\",\n",
              " 'doesn',\n",
              " \"doesn't\",\n",
              " 'hadn',\n",
              " \"hadn't\",\n",
              " 'hasn',\n",
              " \"hasn't\",\n",
              " 'haven',\n",
              " \"haven't\",\n",
              " 'isn',\n",
              " \"isn't\",\n",
              " 'ma',\n",
              " 'mightn',\n",
              " \"mightn't\",\n",
              " 'mustn',\n",
              " \"mustn't\",\n",
              " 'needn',\n",
              " \"needn't\",\n",
              " 'shan',\n",
              " \"shan't\",\n",
              " 'shouldn',\n",
              " \"shouldn't\",\n",
              " 'wasn',\n",
              " \"wasn't\",\n",
              " 'weren',\n",
              " \"weren't\",\n",
              " 'won',\n",
              " \"won't\",\n",
              " 'wouldn',\n",
              " \"wouldn't\"]"
            ]
          },
          "metadata": {},
          "execution_count": 31
        }
      ]
    },
    {
      "cell_type": "code",
      "source": [
        "#lemmatization\n",
        "for i in corpus:\n",
        "    words=nltk.word_tokenize(i)\n",
        "    for word in words:\n",
        "        if word not in set(stopwords.words('english')):\n",
        "           print(lemmatizer.lemmatize(word))"
      ],
      "metadata": {
        "colab": {
          "base_uri": "https://localhost:8080/"
        },
        "id": "HaQPjhWVFfz3",
        "outputId": "92f0c6d2-a005-4a8a-e723-e08b03780740"
      },
      "execution_count": null,
      "outputs": [
        {
          "output_type": "stream",
          "name": "stdout",
          "text": [
            "narendradamodardasmodigujaratinenddmoddsmodibornseptemberbisanindianpoliticianwhohasservedasthethprimeministerofindiasincemay\n",
            "modiwasthechiefministerofgujaratfromtoandisthememberofparliamentmpforvaranasi\n",
            "heisamemberofthebharatiyajanatapartybjpandoftherashtriyaswayamsevaksanghrssarightwinghindunationalistparamilitaryvolunteerorganisation\n",
            "heisthelongestservingprimeministerfromoutsidetheindiannationalcongress\n",
            "modiwasbornandraisedinvadnagarinnortheasterngujaratwherehecompletedhissecondaryeducation\n",
            "hewasintroducedtotherssattheageofeight\n",
            "hisaccountofhelpinghisfathersellteaatthevadnagarrailwaystationhasnotbeenreliablycorroborated\n",
            "atagehewasmarriedtojashodabenmodiwhomheabandonedsoonafteronlypubliclyacknowledgingherfourdecadeslaterwhenlegallyrequiredtodoso\n",
            "modibecameafulltimeworkerfortherssingujaratin\n",
            "therssassignedhimtothebjpinandheheldseveralpositionswithinthepartyhierarchyuntilrisingtotherankofgeneralsecretary\n",
            "cinmodiwasappointedchiefministerofgujaratandelectedtothelegislativeassemblysoonafter\n",
            "hisadministrationisconsideredcomplicitinthegujaratriotsdandhasbeencriticisedforitsmanagementofthecrisis\n",
            "alittleoverpeoplewerekilledaccordingtoofficialrecordsthreequartersofwhomweremuslimindependentsourcesestimateddeathsmostlymuslim\n",
            "aspecialinvestigationteamappointedbythesupremecourtofindiainfoundnoevidencetoinitiateprosecutionproceedingsagainsthim\n",
            "ewhilehispoliciesaschiefministerwhichwerecreditedforencouragingeconomicgrowthwerepraisedmodisadministrationwascriticisedforfailingtosignificantlyimprovehealthpovertyandeducationindicesinthestate\n",
            "fintheindiangeneralelectionmodiledthebjptoaparliamentarymajoritythefirstforapartysince\n",
            "hisadministrationincreaseddirectforeigninvestmentanditreducedspendingonhealthcareeducationandsocialwelfareprogrammes\n",
            "modibeganahighprofilesanitationcampaigncontroversiallyinitiatedthedemonetisationofhighdenominationbanknotesandintroducedthegoodsandservicestaxandweakenedorabolishedenvironmentalandlabourlaws\n",
            "modisadministrationlaunchedthebalakotairstrikeagainstanallegedterroristtrainingcampinpakistan\n",
            "theairstrikefailedandthedeathsofsixindianpersonneltofriendlyfirewaslaterrevealedbuttheactionhadnationalistappeal\n",
            "modispartywonthegeneralelectionwhichfollowed\n",
            "initssecondtermhisadministrationrevokedthespecialstatusofjammuandkashmiranindianadministeredportionofthedisputedkashmirregionandintroducedthecitizenshipamendmentactpromptingwidespreadprotestsandspurringthedelhiriotsinwhichmuslimswerebrutalisedandkilledbyhindumobssometimeswiththecomplicityofpoliceforcescontrolledbythemodiadministration\n",
            "threecontroversialfarmlawsledtositinsbyfarmersacrossthecountryeventuallycausingtheirformalrepeal\n",
            "modioversawindiasresponsetothecovidpandemicduringwhichmillionoutofbillionindiansdiedaccordingtotheworldhealthorganizationsestimates\n"
          ]
        }
      ]
    },
    {
      "cell_type": "code",
      "source": [
        "from sklearn.feature_extraction.text import CountVectorizer\n",
        "cv=CountVectorizer()"
      ],
      "metadata": {
        "id": "MR3dmp33GEyW"
      },
      "execution_count": null,
      "outputs": []
    },
    {
      "cell_type": "code",
      "source": [
        "X=cv.fit_transform(corpus)"
      ],
      "metadata": {
        "id": "AK_weEMBGbgu"
      },
      "execution_count": null,
      "outputs": []
    },
    {
      "cell_type": "code",
      "source": [
        "cv.vocabulary_"
      ],
      "metadata": {
        "colab": {
          "base_uri": "https://localhost:8080/"
        },
        "id": "y3BPvdkuGgrK",
        "outputId": "9103fb7f-6061-4e26-a8ab-b1b1263cab30"
      },
      "execution_count": null,
      "outputs": [
        {
          "output_type": "execute_result",
          "data": {
            "text/plain": [
              "{'narendradamodardasmodigujaratinenddmoddsmodibornseptemberbisanindianpoliticianwhohasservedasthethprimeministerofindiasincemay': 20,\n",
              " 'modiwasthechiefministerofgujaratfromtoandisthememberofparliamentmpforvaranasi': 19,\n",
              " 'heisamemberofthebharatiyajanatapartybjpandoftherashtriyaswayamsevaksanghrssarightwinghindunationalistparamilitaryvolunteerorganisation': 6,\n",
              " 'heisthelongestservingprimeministerfromoutsidetheindiannationalcongress': 7,\n",
              " 'modiwasbornandraisedinvadnagarinnortheasterngujaratwherehecompletedhissecondaryeducation': 18,\n",
              " 'hewasintroducedtotherssattheageofeight': 8,\n",
              " 'hisaccountofhelpinghisfathersellteaatthevadnagarrailwaystationhasnotbeenreliablycorroborated': 9,\n",
              " 'atagehewasmarriedtojashodabenmodiwhomheabandonedsoonafteronlypubliclyacknowledgingherfourdecadeslaterwhenlegallyrequiredtodoso': 2,\n",
              " 'modibecameafulltimeworkerfortherssingujaratin': 13,\n",
              " 'therssassignedhimtothebjpinandheheldseveralpositionswithinthepartyhierarchyuntilrisingtotherankofgeneralsecretary': 22,\n",
              " 'cinmodiwasappointedchiefministerofgujaratandelectedtothelegislativeassemblysoonafter': 3,\n",
              " 'hisadministrationisconsideredcomplicitinthegujaratriotsdandhasbeencriticisedforitsmanagementofthecrisis': 11,\n",
              " 'alittleoverpeoplewerekilledaccordingtoofficialrecordsthreequartersofwhomweremuslimindependentsourcesestimateddeathsmostlymuslim': 0,\n",
              " 'aspecialinvestigationteamappointedbythesupremecourtofindiainfoundnoevidencetoinitiateprosecutionproceedingsagainsthim': 1,\n",
              " 'ewhilehispoliciesaschiefministerwhichwerecreditedforencouragingeconomicgrowthwerepraisedmodisadministrationwascriticisedforfailingtosignificantlyimprovehealthpovertyandeducationindicesinthestate': 4,\n",
              " 'fintheindiangeneralelectionmodiledthebjptoaparliamentarymajoritythefirstforapartysince': 5,\n",
              " 'hisadministrationincreaseddirectforeigninvestmentanditreducedspendingonhealthcareeducationandsocialwelfareprogrammes': 10,\n",
              " 'modibeganahighprofilesanitationcampaigncontroversiallyinitiatedthedemonetisationofhighdenominationbanknotesandintroducedthegoodsandservicestaxandweakenedorabolishedenvironmentalandlabourlaws': 14,\n",
              " 'modisadministrationlaunchedthebalakotairstrikeagainstanallegedterroristtrainingcampinpakistan': 16,\n",
              " 'theairstrikefailedandthedeathsofsixindianpersonneltofriendlyfirewaslaterrevealedbuttheactionhadnationalistappeal': 21,\n",
              " 'modispartywonthegeneralelectionwhichfollowed': 17,\n",
              " 'initssecondtermhisadministrationrevokedthespecialstatusofjammuandkashmiranindianadministeredportionofthedisputedkashmirregionandintroducedthecitizenshipamendmentactpromptingwidespreadprotestsandspurringthedelhiriotsinwhichmuslimswerebrutalisedandkilledbyhindumobssometimeswiththecomplicityofpoliceforcescontrolledbythemodiadministration': 12,\n",
              " 'threecontroversialfarmlawsledtositinsbyfarmersacrossthecountryeventuallycausingtheirformalrepeal': 23,\n",
              " 'modioversawindiasresponsetothecovidpandemicduringwhichmillionoutofbillionindiansdiedaccordingtotheworldhealthorganizationsestimates': 15}"
            ]
          },
          "metadata": {},
          "execution_count": 38
        }
      ]
    },
    {
      "cell_type": "code",
      "source": [
        "corpus[0]"
      ],
      "metadata": {
        "colab": {
          "base_uri": "https://localhost:8080/",
          "height": 35
        },
        "id": "CKQUH7rmGnvV",
        "outputId": "d1d7dfa4-6168-4b01-e123-ed0a5a493972"
      },
      "execution_count": null,
      "outputs": [
        {
          "output_type": "execute_result",
          "data": {
            "text/plain": [
              "'narendradamodardasmodigujaratinenddmoddsmodibornseptemberbisanindianpoliticianwhohasservedasthethprimeministerofindiasincemay'"
            ],
            "application/vnd.google.colaboratory.intrinsic+json": {
              "type": "string"
            }
          },
          "metadata": {},
          "execution_count": 39
        }
      ]
    },
    {
      "cell_type": "code",
      "source": [
        "X[0].toarray"
      ],
      "metadata": {
        "colab": {
          "base_uri": "https://localhost:8080/",
          "height": 187
        },
        "id": "3Gkoiz1KGp6h",
        "outputId": "69a06626-4264-44d0-8b6e-763f657fb35e"
      },
      "execution_count": null,
      "outputs": [
        {
          "output_type": "execute_result",
          "data": {
            "text/plain": [
              "<bound method _cs_matrix.toarray of <1x24 sparse matrix of type '<class 'numpy.int64'>'\n",
              "\twith 1 stored elements in Compressed Sparse Row format>>"
            ],
            "text/html": [
              "<div style=\"max-width:800px; border: 1px solid var(--colab-border-color);\"><style>\n",
              "      pre.function-repr-contents {\n",
              "        overflow-x: auto;\n",
              "        padding: 8px 12px;\n",
              "        max-height: 500px;\n",
              "      }\n",
              "\n",
              "      pre.function-repr-contents.function-repr-contents-collapsed {\n",
              "        cursor: pointer;\n",
              "        max-height: 100px;\n",
              "      }\n",
              "    </style>\n",
              "    <pre style=\"white-space: initial; background:\n",
              "         var(--colab-secondary-surface-color); padding: 8px 12px;\n",
              "         border-bottom: 1px solid var(--colab-border-color);\"><b>scipy.sparse._compressed._cs_matrix.toarray</b><br/>def toarray(order=None, out=None)</pre><pre class=\"function-repr-contents function-repr-contents-collapsed\" style=\"\"><a class=\"filepath\" style=\"display:none\" href=\"#\">/usr/local/lib/python3.10/dist-packages/scipy/sparse/_compressed.py</a>Return a dense ndarray representation of this sparse array.\n",
              "\n",
              "Parameters\n",
              "----------\n",
              "order : {&#x27;C&#x27;, &#x27;F&#x27;}, optional\n",
              "    Whether to store multidimensional data in C (row-major)\n",
              "    or Fortran (column-major) order in memory. The default\n",
              "    is &#x27;None&#x27;, which provides no ordering guarantees.\n",
              "    Cannot be specified in conjunction with the `out`\n",
              "    argument.\n",
              "\n",
              "out : ndarray, 2-D, optional\n",
              "    If specified, uses this array as the output buffer\n",
              "    instead of allocating a new array to return. The provided\n",
              "    array must have the same shape and dtype as the sparse\n",
              "    array on which you are calling the method. For most\n",
              "    sparse types, `out` is required to be memory contiguous\n",
              "    (either C or Fortran ordered).\n",
              "\n",
              "Returns\n",
              "-------\n",
              "arr : ndarray, 2-D\n",
              "    An array with the same shape and containing the same\n",
              "    data represented by the sparse array, with the requested\n",
              "    memory order. If `out` was passed, the same object is\n",
              "    returned after being modified in-place to contain the\n",
              "    appropriate values.</pre>\n",
              "      <script>\n",
              "      if (google.colab.kernel.accessAllowed && google.colab.files && google.colab.files.view) {\n",
              "        for (const element of document.querySelectorAll('.filepath')) {\n",
              "          element.style.display = 'block'\n",
              "          element.onclick = (event) => {\n",
              "            event.preventDefault();\n",
              "            event.stopPropagation();\n",
              "            google.colab.files.view(element.textContent, 1047);\n",
              "          };\n",
              "        }\n",
              "      }\n",
              "      for (const element of document.querySelectorAll('.function-repr-contents')) {\n",
              "        element.onclick = (event) => {\n",
              "          event.preventDefault();\n",
              "          event.stopPropagation();\n",
              "          element.classList.toggle('function-repr-contents-collapsed');\n",
              "        };\n",
              "      }\n",
              "      </script>\n",
              "      </div>"
            ]
          },
          "metadata": {},
          "execution_count": 40
        }
      ]
    }
  ]
}